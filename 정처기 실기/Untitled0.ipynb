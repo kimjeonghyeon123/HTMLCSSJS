{
  "nbformat": 4,
  "nbformat_minor": 0,
  "metadata": {
    "colab": {
      "provenance": []
    },
    "kernelspec": {
      "name": "python3",
      "display_name": "Python 3"
    },
    "language_info": {
      "name": "python"
    }
  },
  "cells": [
    {
      "cell_type": "code",
      "source": [
        "#print\n",
        "#sep 분리문자\n",
        "print('010', \"1234\", \"5678\", sep=\"-\")\n",
        "\n",
        "#end 종료문자\n",
        "print('010', end=\"\")\n",
        "print('hi')\n",
        "\n",
        "print('010', \"1234\", sep=\"-\", end=\"-\")\n",
        "print('5678')"
      ],
      "metadata": {
        "colab": {
          "base_uri": "https://localhost:8080/"
        },
        "id": "OoIsiUMGON9h",
        "outputId": "edd5b1b1-5ae2-4dc3-a47d-f473605f1144"
      },
      "execution_count": null,
      "outputs": [
        {
          "output_type": "stream",
          "name": "stdout",
          "text": [
            "010-1234-5678\n",
            "010hi\n",
            "010-1234-5678\n"
          ]
        }
      ]
    },
    {
      "cell_type": "code",
      "execution_count": null,
      "metadata": {
        "colab": {
          "base_uri": "https://localhost:8080/"
        },
        "id": "26cSM1BO0_D0",
        "outputId": "5b0f641d-56d7-41e8-9659-59bf1aa46632"
      },
      "outputs": [
        {
          "output_type": "stream",
          "name": "stdout",
          "text": [
            "실제 값 : 1.5\n",
            "몫 : 1\n"
          ]
        }
      ],
      "source": [
        "#나누기\n",
        "print('실제 값 : ' + str(6/4))\n",
        "#몫 구하기\n",
        "print('몫 : ' + str(6//4))"
      ]
    },
    {
      "cell_type": "code",
      "source": [
        "print(True | False)\n",
        "print(True & False)"
      ],
      "metadata": {
        "colab": {
          "base_uri": "https://localhost:8080/"
        },
        "id": "2PpOTIazBFey",
        "outputId": "d08134b3-b229-46d3-8575-22c6f0391c0b"
      },
      "execution_count": null,
      "outputs": [
        {
          "output_type": "stream",
          "name": "stdout",
          "text": [
            "True\n",
            "False\n"
          ]
        }
      ]
    },
    {
      "cell_type": "code",
      "source": [
        "sentence = '나는 소년입니다'\n",
        "print(sentence)\n",
        "sentence2 = '파이썬은 쉬워요'\n",
        "print(sentence2)\n",
        "sentence3 = '''\n",
        "나는 소년이고,\n",
        "파이썬은 쉬워요\n",
        "'''\n",
        "print(sentence3)"
      ],
      "metadata": {
        "colab": {
          "base_uri": "https://localhost:8080/"
        },
        "id": "vCDC3n_hB5xW",
        "outputId": "565490fc-9f6a-4b20-afa7-1fd29e5e8cf6"
      },
      "execution_count": null,
      "outputs": [
        {
          "output_type": "stream",
          "name": "stdout",
          "text": [
            "나는 소년입니다\n",
            "파이썬은 쉬워요\n",
            "\n",
            "나는 소년이고,\n",
            "파이썬은 쉬워요\n",
            "\n"
          ]
        }
      ]
    },
    {
      "cell_type": "code",
      "source": [
        "jumin = \"990120-1234567\"\n",
        "\n",
        "print(\"성별 : \" + jumin[7])\n",
        "print(\"연 : \" + jumin[0:2])\n",
        "print(\"월 : \" + jumin[2:4])\n",
        "print(\"일 : \" + jumin[4:6])\n",
        "\n",
        "print(\"생년월일 : \" + jumin[:6])\n",
        "print(\"뒤 7자리 : \" + jumin[7:])\n",
        "print(\"뒤 7자리 (뒤에부터) : \" + jumin[-7:])"
      ],
      "metadata": {
        "colab": {
          "base_uri": "https://localhost:8080/"
        },
        "id": "myfrG1kwCApN",
        "outputId": "01eaf99e-8cfc-4b2a-c7a0-ac86082cd9fa"
      },
      "execution_count": null,
      "outputs": [
        {
          "output_type": "stream",
          "name": "stdout",
          "text": [
            "성별 : 1\n",
            "연 : 99\n",
            "월 : 01\n",
            "일 : 20\n",
            "생년월일 : 990120\n",
            "뒤 7자리 : 1234567\n",
            "뒤 7자리 (뒤에부터) : 1234567\n"
          ]
        }
      ]
    },
    {
      "cell_type": "code",
      "source": [
        "#방법 1\n",
        "print(\"나는 %d살 입니다.\" % 20)\n",
        "print(\"나는 %s살 입니다.\" % 20)\n",
        "print(\"나는 %s색과 %s색을 좋아해요.\" % (\"파란\", \"빨간\"))\n",
        "'''\n",
        "  age=21\n",
        "  color=\"빨간\"\n",
        "  print(\"나는 %s살이고, %s색을 좋아해요.1\" % (age, color))\n",
        "'''\n",
        "\n",
        "#방법 2\n",
        "print(\"나는 {}살 입니다.\".format(20))\n",
        "print(\"나는 {}색과 {}색을 좋아해요.\".format(\"파란\", \"빨간\"))\n",
        "print(\"나는 {0}색과 {1}색을 좋아해요.\".format(\"파란\", \"빨간\"))\n",
        "print(\"나는 {1}색과 {0}색을 좋아해요.\".format(\"파란\", \"빨간\"))\n",
        "\n",
        "#방법 3\n",
        "print(\"나는 {age}살이고, {color}색을 좋아해요.\".format(age = 20, color = \"빨간\"))\n",
        "print(\"나는 {age}살이고, {color}색을 좋아해요.\".format(age = 20, color = \"빨간\"))\n",
        "\n",
        "#방법4\n",
        "age = 20\n",
        "color = \"빨간\"\n",
        "print(f\"나는 {age}살이며, {color}색을 좋아해요.\")"
      ],
      "metadata": {
        "colab": {
          "base_uri": "https://localhost:8080/"
        },
        "id": "ZtiXV9piEk2G",
        "outputId": "946c7245-c1a7-4c55-fdae-7e3a9cf1eac6"
      },
      "execution_count": null,
      "outputs": [
        {
          "output_type": "stream",
          "name": "stdout",
          "text": [
            "나는 20살 입니다.\n",
            "나는 20살 입니다.\n",
            "나는 파란색과 빨간색을 좋아해요.\n",
            "나는 20살 입니다.\n",
            "나는 파란색과 빨간색을 좋아해요.\n",
            "나는 파란색과 빨간색을 좋아해요.\n",
            "나는 빨간색과 파란색을 좋아해요.\n",
            "나는 20살이고, 빨간색을 좋아해요.\n",
            "나는 20살이고, 빨간색을 좋아해요.\n",
            "나는 20살이며, 빨간색을 좋아해요.\n"
          ]
        }
      ]
    },
    {
      "cell_type": "code",
      "source": [
        "print(\"저는 \\\"나도코딩\\\"입니다.\")\n",
        "print(\"저는 \\'나도코딩\\'입니다.\")\n",
        "print(\"C:\\\\Users\\\\Nadocoding\\\\Desktop\")\n",
        "print(\"Red Apple\\rPine\")\n",
        "print(\"Redd\\bApple\")\n",
        "print(\"Red\\tApple\")"
      ],
      "metadata": {
        "colab": {
          "base_uri": "https://localhost:8080/"
        },
        "id": "_sSSYnTSGxwx",
        "outputId": "c0d99c99-6049-4874-9278-7776b5e070d6"
      },
      "execution_count": null,
      "outputs": [
        {
          "output_type": "stream",
          "name": "stdout",
          "text": [
            "저는 \"나도코딩\"입니다.\n",
            "저는 '나도코딩'입니다.\n",
            "C:\\Users\\Nadocoding\\Desktop\n",
            "Red Apple\rPine\n",
            "Redd\bApple\n",
            "Red\tApple\n"
          ]
        }
      ]
    },
    {
      "cell_type": "code",
      "source": [
        "#리스트\n",
        "\n",
        "subway1 = 10\n",
        "subway2 = 20\n",
        "subway3 = 30\n",
        "\n",
        "subway = [10, 20, 30]\n",
        "print(subway)\n",
        "\n",
        "subway = [\"유재석\", \"조세호\", \"박명수\"]\n",
        "print(subway)\n",
        "\n",
        "#조세호 인덱스 검색\n",
        "print(subway.index(\"조세호\"))\n",
        "\n",
        "#하하 뒤에 붙이기\n",
        "subway.append(\"하하\")\n",
        "print(subway)\n",
        "\n",
        "#1번 인덱스에 정형돈 삽입\n",
        "subway.insert(1, \"정형돈\")\n",
        "print(subway)\n",
        "\n",
        "#뒤에서부터 꺼내기\n",
        "print(subway.pop())\n",
        "print(subway)\n",
        "\n",
        "print(subway.pop())\n",
        "print(subway)\n",
        "\n",
        "print(subway.pop())\n",
        "print(subway)\n",
        "\n",
        "#값으로 하나 삭제\n",
        "subway.remove(\"유재석\")\n",
        "print(subway)\n",
        "\n",
        "#같은 이름의 사람이 몇 명\n",
        "subway.append(\"유재석\")\n",
        "print(subway)\n",
        "print(subway.count(\"유재석\"))\n",
        "\n",
        "#정렬\n",
        "num_list = [5,4,3,2,1]\n",
        "num_list.sort()\n",
        "print(num_list)\n",
        "\n",
        "num_list.reverse()\n",
        "print(num_list)\n",
        "\n",
        "#모두 지우기\n",
        "num_list.clear()\n",
        "print(num_list)\n",
        "\n",
        "#리스트 확장\n",
        "num_list = [5,4,3,2,1]\n",
        "mix_list = [\"조세호\", 20 , True]\n",
        "\n",
        "num_list.extend(mix_list)\n",
        "print(num_list)\n"
      ],
      "metadata": {
        "colab": {
          "base_uri": "https://localhost:8080/"
        },
        "id": "Tk6JVza7IEOf",
        "outputId": "4bdd449c-65a2-427a-80f0-577ef40356d6"
      },
      "execution_count": null,
      "outputs": [
        {
          "output_type": "stream",
          "name": "stdout",
          "text": [
            "[10, 20, 30]\n",
            "['유재석', '조세호', '박명수']\n",
            "1\n",
            "['유재석', '조세호', '박명수', '하하']\n",
            "['유재석', '정형돈', '조세호', '박명수', '하하']\n",
            "하하\n",
            "['유재석', '정형돈', '조세호', '박명수']\n",
            "박명수\n",
            "['유재석', '정형돈', '조세호']\n",
            "조세호\n",
            "['유재석', '정형돈']\n",
            "['정형돈']\n",
            "['정형돈', '유재석']\n",
            "1\n",
            "[1, 2, 3, 4, 5]\n",
            "[5, 4, 3, 2, 1]\n",
            "[]\n",
            "[5, 4, 3, 2, 1, '조세호', 20, True]\n"
          ]
        }
      ]
    },
    {
      "cell_type": "code",
      "source": [
        "#사전\n",
        "# (키, 값)\n",
        "# 키가 중복되면 안됨 나중에 추가한 값으로 덮어쓰기 됨\n",
        "\n",
        "cabinet = {3:\"유재석\",100:\"김태호\"}\n",
        "print(cabinet[3])\n",
        "print(cabinet[100])\n",
        "\n",
        "print(cabinet.get(3))\n",
        "\n",
        "# 값이 없는 경우 문자 출력\n",
        "print(cabinet.get(5, \"사용 가능\"))\n",
        "\n",
        "print(3 in cabinet)\n",
        "print(5 in cabinet)\n",
        "\n",
        "cabinet = {\"A-3\":\"유재석\", \"B-100\":\"김태호\"}\n",
        "print(cabinet[\"A-3\"])\n",
        "print(cabinet[\"B-100\"])\n",
        "\n",
        "#새 손님\n",
        "print(cabinet)\n",
        "cabinet[\"A-3\"] = \"김종국\"\n",
        "cabinet[\"C-20\"] = \"조세호\"\n",
        "print(cabinet)\n",
        "\n",
        "#간 손님\n",
        "del cabinet[\"A-3\"]\n",
        "print(cabinet)\n",
        "\n",
        "# key 들만 출력\n",
        "print(cabinet.keys())\n",
        "\n",
        "# value 들만 출력\n",
        "print(cabinet.values())\n",
        "\n",
        "# key, value 쌍으로 출력\n",
        "print(cabinet.items())\n",
        "\n",
        "# 모두 지우기\n",
        "cabinet.clear()\n",
        "print(cabinet)"
      ],
      "metadata": {
        "colab": {
          "base_uri": "https://localhost:8080/"
        },
        "id": "OgiUjTpWKR7o",
        "outputId": "f1437aad-1e96-4932-e582-33837671c136"
      },
      "execution_count": null,
      "outputs": [
        {
          "output_type": "stream",
          "name": "stdout",
          "text": [
            "유재석\n",
            "김태호\n",
            "유재석\n",
            "사용 가능\n",
            "True\n",
            "False\n",
            "유재석\n",
            "김태호\n",
            "{'A-3': '유재석', 'B-100': '김태호'}\n",
            "{'A-3': '김종국', 'B-100': '김태호', 'C-20': '조세호'}\n",
            "{'B-100': '김태호', 'C-20': '조세호'}\n",
            "dict_keys(['B-100', 'C-20'])\n",
            "dict_values(['김태호', '조세호'])\n",
            "dict_items([('B-100', '김태호'), ('C-20', '조세호')])\n",
            "{}\n"
          ]
        }
      ]
    },
    {
      "cell_type": "code",
      "source": [
        "#튜플\n",
        "# 속도가 리스트보다 빠름\n",
        "# 추가, 변경 안됨\n",
        "menu = (\"돈까스\", \"치즈까스\")\n",
        "\n",
        "print(menu[0])\n",
        "print(menu[1])\n",
        "\n",
        "name, age, hobby = (\"김종국\", 20, \"코딩\")\n",
        "print(name, age, hobby)"
      ],
      "metadata": {
        "colab": {
          "base_uri": "https://localhost:8080/"
        },
        "id": "wfTdnVM1PDRc",
        "outputId": "788bbdcd-e5bb-45ca-db3b-aba648ab6587"
      },
      "execution_count": null,
      "outputs": [
        {
          "output_type": "stream",
          "name": "stdout",
          "text": [
            "돈까스\n",
            "치즈까스\n",
            "김종국 20 코딩\n"
          ]
        }
      ]
    },
    {
      "cell_type": "code",
      "source": [
        "#세트\n",
        "# 중복 안됨, 순서 없음\n",
        "my_set = {1,2,3,4,5}\n",
        "print(my_set)\n",
        "\n",
        "java = {\"유재석\", \"김태호\", \"양세형\"}\n",
        "python = set([\"유재석\", \"박명수\"])\n",
        "\n",
        "# 교집합\n",
        "print(java & python)\n",
        "print(java.intersection(python))\n",
        "\n",
        "# 합집합\n",
        "print(java | python)\n",
        "print(java.union(python))\n",
        "\n",
        "# 차집합\n",
        "print(java - python)\n",
        "print(java.difference(python))\n",
        "\n",
        "# python 하는 사람 늘리기\n",
        "python.add(\"김태호\")\n",
        "print(python)\n",
        "\n",
        "# java 없애기\n",
        "java.remove(\"김태호\")\n",
        "print(java)"
      ],
      "metadata": {
        "colab": {
          "base_uri": "https://localhost:8080/"
        },
        "id": "qgmOUtr44fdO",
        "outputId": "50cfd215-6b80-4363-9b1b-c694e7a1f9e5"
      },
      "execution_count": null,
      "outputs": [
        {
          "output_type": "stream",
          "name": "stdout",
          "text": [
            "{1, 2, 3, 4, 5}\n",
            "{'유재석'}\n",
            "{'유재석'}\n",
            "{'양세형', '박명수', '유재석', '김태호'}\n",
            "{'양세형', '박명수', '유재석', '김태호'}\n",
            "{'양세형', '김태호'}\n",
            "{'양세형', '김태호'}\n",
            "{'유재석', '김태호', '박명수'}\n",
            "{'유재석', '양세형'}\n"
          ]
        }
      ]
    },
    {
      "cell_type": "code",
      "source": [
        "menu = {\"집합\", \"우유\", \"주스\"}\n",
        "print(menu, type(menu))\n",
        "\n",
        "menu = list(menu)\n",
        "print(menu, type(menu))\n",
        "\n",
        "menu = tuple(menu)\n",
        "print(menu, type(menu))\n",
        "\n",
        "menu = set(menu)\n",
        "print(menu, type(menu))"
      ],
      "metadata": {
        "colab": {
          "base_uri": "https://localhost:8080/"
        },
        "id": "b02g6T_y52_L",
        "outputId": "1895c52b-0f55-483c-b18e-adc5463318eb"
      },
      "execution_count": null,
      "outputs": [
        {
          "output_type": "stream",
          "name": "stdout",
          "text": [
            "{'우유', '집합', '주스'} <class 'set'>\n",
            "['우유', '집합', '주스'] <class 'list'>\n",
            "('우유', '집합', '주스') <class 'tuple'>\n",
            "{'우유', '집합', '주스'} <class 'set'>\n"
          ]
        }
      ]
    },
    {
      "cell_type": "code",
      "source": [
        "#if문\n",
        "\n",
        "weather = input(\"오늘 날씨는 어때요?\")\n",
        "if weather == \"비\" or weather == \"눈\":\n",
        "  print(\"우산을 챙기세요\")\n",
        "elif weather == \"미세먼지\":\n",
        "  print(\"마스크를 챙기세요\")\n",
        "else:\n",
        "  print(\"준비물 필요 없어요\")"
      ],
      "metadata": {
        "colab": {
          "base_uri": "https://localhost:8080/"
        },
        "id": "nzVtJo5f7Isd",
        "outputId": "013f216c-aaea-47f5-d4ec-653659074697"
      },
      "execution_count": null,
      "outputs": [
        {
          "output_type": "stream",
          "name": "stdout",
          "text": [
            "오늘 날씨는 어때요?눈\n",
            "우산을 챙기세요\n"
          ]
        }
      ]
    },
    {
      "cell_type": "code",
      "source": [
        "temp = int(input(\"기온은 어때요?\"))\n",
        "if 30 <= temp:\n",
        "  print(\"너무 더워요. 나가지 마세요\")\n",
        "elif 10 <= temp and temp < 30:\n",
        "  print(\"괜찮은 날씨에요\")\n",
        "elif 0 <= temp < 10:\n",
        "  print(\"외투를 챙기세요\")\n",
        "else:\n",
        "  print(\"너무 추워요. 나가지 마세요\")"
      ],
      "metadata": {
        "colab": {
          "base_uri": "https://localhost:8080/"
        },
        "id": "gBfuguyi7p8y",
        "outputId": "a1e0df84-1da2-45a7-e0eb-871a960bb54e"
      },
      "execution_count": null,
      "outputs": [
        {
          "output_type": "stream",
          "name": "stdout",
          "text": [
            "기온은 어때요?30\n",
            "너무 더워요. 나가지 마세요\n"
          ]
        }
      ]
    },
    {
      "cell_type": "code",
      "source": [
        "# for 문\n",
        "\n",
        "for waiting_no in [0,1,2,3,4]:\n",
        "  print(\"대기번호 : {0}\".format(waiting_no))\n",
        "\n",
        "for waiting_no in range(1, 6):\n",
        "  print(\"대기번호 : {0}\".format(waiting_no))\n",
        "\n",
        "#리스트\n",
        "starbucks = [\"아이언맨\", \"토르\", \"아이엠 그루트\"]\n",
        "for customer in starbucks:\n",
        "  print(\"{0}, 커피가 준비되었습니다.\".format(customer))"
      ],
      "metadata": {
        "colab": {
          "base_uri": "https://localhost:8080/"
        },
        "id": "dPLBLbZs8IF8",
        "outputId": "22428da0-f945-4649-ad3e-dadac4e7fed6"
      },
      "execution_count": null,
      "outputs": [
        {
          "output_type": "stream",
          "name": "stdout",
          "text": [
            "대기번호 : 0\n",
            "대기번호 : 1\n",
            "대기번호 : 2\n",
            "대기번호 : 3\n",
            "대기번호 : 4\n",
            "대기번호 : 1\n",
            "대기번호 : 2\n",
            "대기번호 : 3\n",
            "대기번호 : 4\n",
            "대기번호 : 5\n",
            "아이언맨, 커피가 준비되었습니다.\n",
            "토르, 커피가 준비되었습니다.\n",
            "아이엠 그루트, 커피가 준비되었습니다.\n"
          ]
        }
      ]
    },
    {
      "cell_type": "code",
      "source": [
        "# while 문\n",
        "\n",
        "customer = \"토르\"\n",
        "index = 5\n",
        "while index >= 1:\n",
        "  print(\"{0}, 커피가 준비되었습니다. {1} 번 남았어요.\".format(customer, index))\n",
        "  index -= 1\n",
        "  if index == 0 :\n",
        "    print(\"커피 폐기\")\n",
        "\n",
        "customer = \"토르\"\n",
        "person = \"Unknown\"\n",
        "\n",
        "while person != customer :\n",
        "  print(\"{0}, 커피가 준비 되었습니다.\".format(customer))\n",
        "  person = input(\"이름이 어떻게 되세요? \")"
      ],
      "metadata": {
        "colab": {
          "base_uri": "https://localhost:8080/"
        },
        "id": "9jA0Q8IK8s5D",
        "outputId": "13a7b9cf-f440-412e-acc0-2da8234c2236"
      },
      "execution_count": 1,
      "outputs": [
        {
          "name": "stdout",
          "output_type": "stream",
          "text": [
            "토르, 커피가 준비되었습니다. 5 번 남았어요.\n",
            "토르, 커피가 준비되었습니다. 4 번 남았어요.\n",
            "토르, 커피가 준비되었습니다. 3 번 남았어요.\n",
            "토르, 커피가 준비되었습니다. 2 번 남았어요.\n",
            "토르, 커피가 준비되었습니다. 1 번 남았어요.\n",
            "커피 폐기\n",
            "토르, 커피가 준비 되었습니다.\n",
            "이름이 어떻게 되세요? 토르\n"
          ]
        }
      ]
    },
    {
      "cell_type": "code",
      "source": [
        "absent = [2, 5]\n",
        "no_book = [7]\n",
        "for student in range(1, 11):\n",
        "  if student in absent:\n",
        "    continue\n",
        "  elif student in no_book:\n",
        "    print(\"오늘 수업 여기까지. {0}는 교무실로 따라와\".format(student))\n",
        "    break\n",
        "  print(\"{0}, 책을 읽어봐\".format(student))"
      ],
      "metadata": {
        "colab": {
          "base_uri": "https://localhost:8080/"
        },
        "id": "UwyNY5oPf1Hh",
        "outputId": "c8452b52-981c-4b03-e447-9e794bfcc940"
      },
      "execution_count": 5,
      "outputs": [
        {
          "output_type": "stream",
          "name": "stdout",
          "text": [
            "1, 책을 읽어봐\n",
            "3, 책을 읽어봐\n",
            "4, 책을 읽어봐\n",
            "6, 책을 읽어봐\n",
            "오늘 수업 여기까지. 7는 교무실로 따라와\n"
          ]
        }
      ]
    },
    {
      "cell_type": "code",
      "source": [
        "students = [1,2,3,4,5]\n",
        "print(students)\n",
        "students = [i+100 for i in students]\n",
        "print(students)\n",
        "\n",
        "students = [\"iron man\", \"Thor\", \"I am groot\"]\n",
        "#students = [len(i) for i in students]\n",
        "#print(students)\n",
        "\n",
        "students = [i.upper() for i in students]\n",
        "print(students)"
      ],
      "metadata": {
        "colab": {
          "base_uri": "https://localhost:8080/"
        },
        "id": "Te2nvQx4gpgP",
        "outputId": "def00619-3e8b-4b82-9580-283b5c65b189"
      },
      "execution_count": 15,
      "outputs": [
        {
          "output_type": "stream",
          "name": "stdout",
          "text": [
            "[1, 2, 3, 4, 5]\n",
            "[101, 102, 103, 104, 105]\n",
            "['IRON MAN', 'THOR', 'I AM GROOT']\n"
          ]
        }
      ]
    },
    {
      "cell_type": "code",
      "source": [
        "#함수\n",
        "\n",
        "def open_account():\n",
        "  print(\"새로운 계좌가 생성되었습니다.\")\n",
        "\n",
        "def deposit(balance, money):\n",
        "  print(\"입금이 완료되었습니다. 잔액은 {0}원 입니다.\".format(balance + money))\n",
        "  return balance + money\n",
        "\n",
        "def withdraw(balance, money):\n",
        "  if balance >= money:\n",
        "    print(\"출금이 완료되었습니다. 잔액은 {0}원 입니다.\".format(balance - money))\n",
        "    return balance - money\n",
        "  else:\n",
        "    print(\"출금이 완료되지 않았습니다. 잔액은 {0}원 입니다.\".format(balance))\n",
        "    return balance\n",
        "\n",
        "#튜플 반환\n",
        "# a = ('ㅠ', \"ㅇ\", 1)\n",
        "def withdraw_night(balance, money):\n",
        "  commission = 100\n",
        "  return commission, balance - money - commission\n",
        "\n",
        "balance = 0\n",
        "balance = deposit(balance, 1000)\n",
        "#balance = withdraw(balance, 2000)\n",
        "#balance = withdraw(balance, 500)\n",
        "commission, balance = withdraw_night(balance, 500)\n",
        "print(\"수수료 {0}원이고, 잔액은 {1}원 입니다.\".format(commission, balance))"
      ],
      "metadata": {
        "colab": {
          "base_uri": "https://localhost:8080/"
        },
        "id": "q_R_Vd6rhdYm",
        "outputId": "d85d4292-33c2-48cc-ec09-0f495b7aca51"
      },
      "execution_count": 31,
      "outputs": [
        {
          "output_type": "stream",
          "name": "stdout",
          "text": [
            "입금이 완료되었습니다. 잔액은 1000원 입니다.\n",
            "수수료 100원이고, 잔액은 400원 입니다.\n"
          ]
        }
      ]
    },
    {
      "cell_type": "code",
      "source": [
        "# def profile(name, age, main_lang):\n",
        "#   print(\"이름 : {0}\\t나이 : {1}\\t주 사용 언어 : {2}\"\\\n",
        "#         .format(name, age, main_lang))\n",
        "\n",
        "# profile(\"유재석\", 20, \"파이썬\")\n",
        "# profile(\"김태호\", 25, \"자바\")\n",
        "\n",
        "def profile(name, age = 17, main_lang = \"파이썬\"):\n",
        "  print(\"이름 : {0}\\t나이 : {1}\\t주 사용 언어 : {2}\"\\\n",
        "        .format(name, age, main_lang))\n",
        "\n",
        "profile(\"유재석\")\n",
        "profile(\"김태호\")"
      ],
      "metadata": {
        "colab": {
          "base_uri": "https://localhost:8080/"
        },
        "id": "jG9fn7UT8rOg",
        "outputId": "dc8499da-2a8c-48f4-96ee-8e7635c29a27"
      },
      "execution_count": 37,
      "outputs": [
        {
          "output_type": "stream",
          "name": "stdout",
          "text": [
            "이름 : 유재석\t나이 : 17\t주 사용 언어 : 파이썬\n",
            "이름 : 김태호\t나이 : 17\t주 사용 언어 : 파이썬\n"
          ]
        }
      ]
    },
    {
      "cell_type": "code",
      "source": [
        "def profile(name, age, main_lang):\n",
        "  print(name, age, main_lang)\n",
        "\n",
        "profile(name=\"유재석\", main_lang=\"파이썬\", age=20)"
      ],
      "metadata": {
        "colab": {
          "base_uri": "https://localhost:8080/"
        },
        "id": "4sd2hNPD9cFz",
        "outputId": "c9451905-8f73-4bc3-9e3b-1b781fdedc3a"
      },
      "execution_count": 39,
      "outputs": [
        {
          "output_type": "stream",
          "name": "stdout",
          "text": [
            "유재석 20 파이썬\n"
          ]
        }
      ]
    },
    {
      "cell_type": "code",
      "source": [
        "#가변인자\n",
        "\n",
        "# def profile(name, age, lang1, lang2, lang3, lang4, lang5):\n",
        "#   print(\"이름 : {0}\\t나이 : {1}\\t\".format(name, age), end = \" \")\n",
        "#   print(lang1, lang2, lang3, lang4, lang5)\n",
        "\n",
        "def profile(name, age, *language):\n",
        "  print(\"이름 : {0}\\t나이 : {1}\\t\".format(name, age), end = \" \")\n",
        "  for lang in language:\n",
        "    print(lang, end = \" \")\n",
        "  print()\n",
        "\n",
        "profile(\"유재석\", 20, \"Python\", \"Java\", \"C\", \"C++\", \"C#\")\n",
        "profile(\"김태호\", 25, \"Kotlin\", \"Swift\")"
      ],
      "metadata": {
        "colab": {
          "base_uri": "https://localhost:8080/"
        },
        "id": "HH-5GyD893Q-",
        "outputId": "7c0dbc48-350b-462a-a3d1-3dd5c147afd7"
      },
      "execution_count": 44,
      "outputs": [
        {
          "output_type": "stream",
          "name": "stdout",
          "text": [
            "이름 : 유재석\t나이 : 20\t Python Java C C++ C# \n",
            "이름 : 김태호\t나이 : 25\t Kotlin Swift \n"
          ]
        }
      ]
    },
    {
      "cell_type": "code",
      "source": [
        "gun = 10\n",
        "\n",
        "def checkpoint(soldiers):\n",
        "  global gun # 전역 공간에 있는 gun 사용\n",
        "  gun = gun - soldiers\n",
        "  print(\"[함수 내] 남은 총 : {0}\".format(gun))\n",
        "\n",
        "def checkpoint_ret(gun, soldiers):\n",
        "  gun = gun - soldiers\n",
        "  print(\"[함수 내] 남은 총 : {0}\".format(gun))\n",
        "  return gun\n",
        "\n",
        "print(\"전체 총  : {0}\".format(gun))\n",
        "#checkpoint(2)\n",
        "gun = checkpoint_ret(gun, 2)\n",
        "print(\"남은 총 : {0}\".format(gun))"
      ],
      "metadata": {
        "colab": {
          "base_uri": "https://localhost:8080/"
        },
        "id": "qdcMUBuW-VJT",
        "outputId": "a13cd763-b742-472f-d89f-b4515002d0f1"
      },
      "execution_count": 50,
      "outputs": [
        {
          "output_type": "stream",
          "name": "stdout",
          "text": [
            "전체 총  : 10\n",
            "[함수 내] 남은 총 : 8\n",
            "남은 총 : 8\n"
          ]
        }
      ]
    },
    {
      "cell_type": "code",
      "source": [
        "scores = {\"수학\":0, \"영어\":50, \"코딩\":100}\n",
        "\n",
        "# subject.ljust(8) : 8칸 확보 후 왼쪽 정렬\n",
        "# score.rjust(4) : 4칸 확보 후 오른쪽 정렬\n",
        "for subject, score in scores.items():\n",
        "  print(subject.ljust(8), str(score).rjust(4))\n",
        "\n",
        "# str(num).zfill(3) : 3칸 확보 후 값이 없는 공간에 0을 채움\n",
        "for num in range(1, 21):\n",
        "  print(\"대기번호 : \" + str(num).zfill(3))\n",
        "\n",
        "answer = input(\"아무 값이나 입력하세요 : \")\n",
        "print(answer, type(answer))"
      ],
      "metadata": {
        "colab": {
          "base_uri": "https://localhost:8080/"
        },
        "id": "TVRAsE7z_9W3",
        "outputId": "91c706b7-42e3-4e54-d7fd-688ecbe0af22"
      },
      "execution_count": 57,
      "outputs": [
        {
          "output_type": "stream",
          "name": "stdout",
          "text": [
            "수학          0\n",
            "영어         50\n",
            "코딩        100\n",
            "대기번호 : 001\n",
            "대기번호 : 002\n",
            "대기번호 : 003\n",
            "대기번호 : 004\n",
            "대기번호 : 005\n",
            "대기번호 : 006\n",
            "대기번호 : 007\n",
            "대기번호 : 008\n",
            "대기번호 : 009\n",
            "대기번호 : 010\n",
            "대기번호 : 011\n",
            "대기번호 : 012\n",
            "대기번호 : 013\n",
            "대기번호 : 014\n",
            "대기번호 : 015\n",
            "대기번호 : 016\n",
            "대기번호 : 017\n",
            "대기번호 : 018\n",
            "대기번호 : 019\n",
            "대기번호 : 020\n",
            "아무 값이나 입력하세요 : 10\n",
            "10 <class 'str'>\n"
          ]
        }
      ]
    },
    {
      "cell_type": "code",
      "source": [
        "# 파일 입출력\n",
        "\n",
        "# 덮어쓰기\n",
        "# score_file = open(\"score.txt\", \"w\", encoding=\"utf-8\")\n",
        "# print(\"수학 : 0\", file=score_file)\n",
        "# print(\"영어 : 50\", file=score_file)\n",
        "# score_file.close()\n",
        "\n",
        "# 이어쓰기\n",
        "# write : 줄바꿈해줘야됨\n",
        "# score_file = open(\"score.txt\", \"a\", encoding=\"utf-8\")\n",
        "# score_file.write(\"과학 : 80\")\n",
        "# score_file.write(\"\\n코딩 : 100\")\n",
        "# score_file.close()\n",
        "\n",
        "# 읽어들이기\n",
        "# score_file = open(\"score.txt\", \"r\", encoding=\"utf-8\")\n",
        "# print(score_file.read())\n",
        "# score_file.close()\n",
        "\n",
        "# 한줄씩 읽기\n",
        "# score_file = open(\"score.txt\", \"r\", encoding=\"utf-8\")\n",
        "# print(score_file.readline(), end=\"\") # 한줄씩 읽고\n",
        "# print(score_file.readline(), end=\"\") # 한줄씩 읽기\n",
        "# print(score_file.readline(), end=\"\") # 한줄씩 읽기\n",
        "# print(score_file.readline(), end=\"\") # 한줄씩 읽기\n",
        "# score_file.close()\n",
        "\n",
        "# while문 사용\n",
        "# score_file = open(\"score.txt\", \"r\", encoding=\"utf-8\")\n",
        "# while True:\n",
        "#   line = score_file.readline()\n",
        "#   if not line:\n",
        "#     break\n",
        "#   print(line, end=\"\")\n",
        "# score_file.close()\n",
        "\n",
        "# 리스트 사용\n",
        "score_file = open(\"score.txt\", \"r\", encoding=\"utf-8\")\n",
        "lines = score_file.readlines()\n",
        "for line in lines:\n",
        "  print(line, end=\"\")\n",
        "score_file.close()"
      ],
      "metadata": {
        "colab": {
          "base_uri": "https://localhost:8080/"
        },
        "id": "7NrWdO8XBE6F",
        "outputId": "a3542f15-3900-4c09-b313-43838afecd11"
      },
      "execution_count": 12,
      "outputs": [
        {
          "output_type": "stream",
          "name": "stdout",
          "text": [
            "수학 : 0\n",
            "영어 : 50\n",
            "과학 : 80\n",
            "코딩 : 100"
          ]
        }
      ]
    },
    {
      "cell_type": "code",
      "source": [
        "# pickle\n",
        "# wb : write, binary\n",
        "import pickle\n",
        "\n",
        "#쓰기\n",
        "# profile_file = open(\"profile.pickle\", \"wb\")\n",
        "# profile = {\"이름\":\"박명수\", \"나이\":30, \"취미\":[\"축구\", \"골프\", \"코딩\"]}\n",
        "# print(profile)\n",
        "# pickle.dump(profile, profile_file) # profile에 있는 정보를 file에 저장\n",
        "# profile_file.close()\n",
        "\n",
        "# 읽기\n",
        "profile_file = open(\"profile.pickle\", \"rb\")\n",
        "profile = pickle.load(profile_file) # file에 있는 정보를 profile에 불러오기\n",
        "print(profile)\n",
        "profile_file.close()"
      ],
      "metadata": {
        "colab": {
          "base_uri": "https://localhost:8080/"
        },
        "id": "Rp0xmaUHv1k7",
        "outputId": "e4e65486-edc0-4cde-cf6f-c9d1567e5451"
      },
      "execution_count": 15,
      "outputs": [
        {
          "output_type": "stream",
          "name": "stdout",
          "text": [
            "{'이름': '박명수', '나이': 30, '취미': ['축구', '골프', '코딩']}\n"
          ]
        }
      ]
    },
    {
      "cell_type": "code",
      "source": [
        "# with\n",
        "import pickle\n",
        "\n",
        "with open(\"profile.pickle\", \"rb\") as profile_file:\n",
        "  print(pickle.load(profile_file))\n",
        "\n",
        "with open(\"study.txt\", \"w\", encoding=\"utf-8\") as study_file:\n",
        "  study_file.write(\"파이썬을 열심히 공부하고 있어요\")"
      ],
      "metadata": {
        "colab": {
          "base_uri": "https://localhost:8080/"
        },
        "id": "RlCZy1UWwuIb",
        "outputId": "a42d37fd-b99c-40a3-82d8-a803e4717166"
      },
      "execution_count": 19,
      "outputs": [
        {
          "output_type": "stream",
          "name": "stdout",
          "text": [
            "{'이름': '박명수', '나이': 30, '취미': ['축구', '골프', '코딩']}\n"
          ]
        }
      ]
    },
    {
      "cell_type": "code",
      "source": [
        "# 클래스\n",
        "\n",
        "name = \"마린\"\n",
        "hp = 40\n",
        "damage = 5\n",
        "\n",
        "print(\"{} 유닛이 생성되었습니다.\".format(name))\n",
        "print(\"체력 {0}, 공격력 {1}\\n\".format(hp, damage))\n",
        "\n",
        "tank_name = \"탱크\"\n",
        "tank_hp = 150\n",
        "tank_damage = 35\n",
        "\n",
        "print(\"{} 유닛이 생성되었습니다.\".format(tank_name))\n",
        "print(\"체력 {0}, 공격력 {1}\\n\".format(tank_hp, tank_damage))\n",
        "\n",
        "tank2_name = \"탱크\"\n",
        "tank2_hp = 150\n",
        "tank2_damage = 35\n",
        "\n",
        "print(\"{} 유닛이 생성되었습니다.\".format(tank2_name))\n",
        "print(\"체력 {0}, 공격력 {1}\\n\".format(tank2_hp, tank2_damage))\n",
        "\n",
        "def attack(name, location, damage):\n",
        "  print(\"{0} : {1} 방향으로 적군을 공격 합니다. [공격력 {2}]\".format(name, location, damage))\n",
        "\n",
        "attack(name, \"1시\", damage)\n",
        "attack(tank_name, \"1시\", tank_damage)\n",
        "attack(tank2_name, \"1시\", tank2_damage)"
      ],
      "metadata": {
        "colab": {
          "base_uri": "https://localhost:8080/"
        },
        "id": "Frb69a_vxQjx",
        "outputId": "f2ed5a86-8063-4fb7-93f2-e844e2e2b1c2"
      },
      "execution_count": 22,
      "outputs": [
        {
          "output_type": "stream",
          "name": "stdout",
          "text": [
            "마린 유닛이 생성되었습니다.\n",
            "체력 40, 공격력 5\n",
            "\n",
            "탱크 유닛이 생성되었습니다.\n",
            "체력 150, 공격력 35\n",
            "\n",
            "탱크 유닛이 생성되었습니다.\n",
            "체력 150, 공격력 35\n",
            "\n",
            "마린 : 1시 방향으로 적군을 공격 합니다. [공격력 5]\n",
            "탱크 : 1시 방향으로 적군을 공격 합니다. [공격력 35]\n",
            "탱크 : 1시 방향으로 적군을 공격 합니다. [공격력 35]\n"
          ]
        }
      ]
    },
    {
      "cell_type": "code",
      "source": [
        "class Unit:\n",
        "  def __init__(self, name, hp, damage):\n",
        "    self.name = name\n",
        "    self.hp = hp\n",
        "    self.damage = damage\n",
        "    print(\"{} 유닛이 생성되었습니다.\".format(self.name))\n",
        "    print(\"체력 {0}, 공격력 {1}\".format(self.hp, self.damage))\n",
        "\n",
        "# marine1 = Unit(\"마린\", 40, 5)\n",
        "# marine2 = Unit(\"마린\", 40, 5)\n",
        "# tank = Unit(\"탱크\", 150, 35)\n",
        "\n",
        "wraith1 = Unit(\"레이스\", 80, 5)\n",
        "print(\"유닛 이름 : {0}, 공격력 : {1}\".format(wraith1.name, wraith1.damage))\n",
        "\n",
        "# 각 객체별로 추가변수 할당 가능\n",
        "wraith2 = Unit(\"빼앗은 레이스\", 80, 5)\n",
        "wraith2.clocking = True\n",
        "\n",
        "if wraith2.clocking == True:\n",
        "  print(\"{0}는 현재 클로킹 상태입니다.\".format(wraith2.name))"
      ],
      "metadata": {
        "colab": {
          "base_uri": "https://localhost:8080/"
        },
        "id": "J6ZMbKjR2D--",
        "outputId": "33e05672-f964-48c1-d709-d0734f2a927f"
      },
      "execution_count": 30,
      "outputs": [
        {
          "output_type": "stream",
          "name": "stdout",
          "text": [
            "레이스 유닛이 생성되었습니다.\n",
            "체력 80, 공격력 5\n",
            "유닛 이름 : 레이스, 공격력 : 5\n",
            "빼앗은 레이스 유닛이 생성되었습니다.\n",
            "체력 80, 공격력 5\n",
            "빼앗은 레이스는 현재 클로킹 상태입니다.\n"
          ]
        }
      ]
    },
    {
      "cell_type": "code",
      "source": [
        "class Unit:\n",
        "  def __init__(self, name, hp):\n",
        "    self.name = name\n",
        "    self.hp = hp\n",
        "\n",
        "class AttackUnit(Unit):\n",
        "  def __init__(self, name, hp, damage):\n",
        "    Unit.__init__(self, name, hp)\n",
        "    self.damage = damage\n",
        "\n",
        "  def attack(self, location):\n",
        "    print(\"{0} : {1} 방향으로 적군을 공격합니다. [공격력 {2}]\".format(self.name, location, self.damage))\n",
        "\n",
        "  def damaged(self, damage):\n",
        "    print(\"{0} : {1} 데미지를 입었습니다.\".format(self.name, damage))\n",
        "    self.hp -= damage\n",
        "    print(\"{0} : 현재 체력은 {1} 입니다.\".format(self.name, self.hp))\n",
        "    if self.hp <= 0:\n",
        "      print(\"{0} : 파괴되었습니다.\".format(self.name))\n",
        "\n",
        "class Flyable:\n",
        "  def __init__(self, flying_speed):\n",
        "    self.flying_speed = flying_speed\n",
        "\n",
        "  def fly(self, name, location):\n",
        "    print(\"{0} : {1} 방향으로 날아갑니다. [속도 {2}]\".format(name, location, self.flying_speed))\n",
        "\n",
        "class FlyableAttackUnit(AttackUnit, Flyable):\n",
        "  def __init__(self, name, hp, damage, flying_speed):\n",
        "    AttackUnit.__init__(self, name, hp, damage)\n",
        "    Flyable.__init__(self, flying_speed)\n",
        "\n",
        "valkyrie = FlyableAttackUnit(\"발키리\", 200, 6, 5)\n",
        "valkyrie.fly(valkyrie.name, \"3시\")\n",
        "\n",
        "\n",
        "# firebat1 = AttackUnit(\"파이어뱃\", 50, 16)\n",
        "# firebat1.attack(\"5시\")\n",
        "\n",
        "# firebat1.damaged(25)\n",
        "# firebat1.damaged(25)\n",
        "\n"
      ],
      "metadata": {
        "colab": {
          "base_uri": "https://localhost:8080/"
        },
        "id": "0r4B_7WU3gbh",
        "outputId": "daba51c9-9368-4efb-9306-88680320219c"
      },
      "execution_count": 36,
      "outputs": [
        {
          "output_type": "stream",
          "name": "stdout",
          "text": [
            "발키리 : 3시 방향으로 날아갑니다. [속도 5]\n"
          ]
        }
      ]
    },
    {
      "cell_type": "code",
      "source": [],
      "metadata": {
        "id": "2wnZly-E3g4u"
      },
      "execution_count": null,
      "outputs": []
    }
  ]
}